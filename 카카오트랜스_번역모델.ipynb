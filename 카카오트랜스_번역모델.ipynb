{
  "nbformat": 4,
  "nbformat_minor": 0,
  "metadata": {
    "colab": {
      "provenance": []
    },
    "kernelspec": {
      "name": "python3",
      "display_name": "Python 3"
    },
    "language_info": {
      "name": "python"
    }
  },
  "cells": [
    {
      "cell_type": "code",
      "execution_count": null,
      "metadata": {
        "id": "Pj6pGq1Q3Cvt"
      },
      "outputs": [],
      "source": [
        "# [[title1, content1, link1],[title2, content2, link2]]"
      ]
    },
    {
      "cell_type": "code",
      "source": [
        "import pandas as pd\n",
        "\n",
        "# 데이터 생성\n",
        "data = [[\"한국어\", \"YG는 6일 블랙핑크와 신중한 논의 끝에 두터운 신뢰를 바탕으로 그룹 활동에 대한 전속계약을 체결했다고 공식 발표했다. 이에 따라 블랙핑크는 YG의 지원 속에 신규 앨범을 발매하고 다시 초대형 월드투어에 나설 계획이다.\", \"link1\"]]\n",
        "\n",
        "# 데이터프레임 생성\n",
        "df = pd.DataFrame(data, columns=[\"Title\", \"Content\", \"Link\"])\n",
        "\n",
        "# 생성된 데이터프레임 출력\n",
        "print(df)\n"
      ],
      "metadata": {
        "colab": {
          "base_uri": "https://localhost:8080/"
        },
        "id": "nIwURvfX36XM",
        "outputId": "7c884bde-4584-49f2-80b1-ce49a5f8652c"
      },
      "execution_count": 28,
      "outputs": [
        {
          "output_type": "stream",
          "name": "stdout",
          "text": [
            "  Title                                            Content   Link\n",
            "0   한국어  YG는 6일 블랙핑크와 신중한 논의 끝에 두터운 신뢰를 바탕으로 그룹 활동에 대한 ...  link1\n"
          ]
        }
      ]
    },
    {
      "cell_type": "code",
      "source": [
        "pip install kakaotrans"
      ],
      "metadata": {
        "colab": {
          "base_uri": "https://localhost:8080/"
        },
        "id": "X75Aobbj36eg",
        "outputId": "2e068555-679d-491c-8ffc-90af91c43ba7"
      },
      "execution_count": 1,
      "outputs": [
        {
          "output_type": "stream",
          "name": "stdout",
          "text": [
            "Collecting kakaotrans\n",
            "  Downloading kakaotrans-0.1.2-py3-none-any.whl (5.2 kB)\n",
            "Requirement already satisfied: requests in /usr/local/lib/python3.10/dist-packages (from kakaotrans) (2.31.0)\n",
            "Requirement already satisfied: charset-normalizer<4,>=2 in /usr/local/lib/python3.10/dist-packages (from requests->kakaotrans) (3.3.2)\n",
            "Requirement already satisfied: idna<4,>=2.5 in /usr/local/lib/python3.10/dist-packages (from requests->kakaotrans) (3.6)\n",
            "Requirement already satisfied: urllib3<3,>=1.21.1 in /usr/local/lib/python3.10/dist-packages (from requests->kakaotrans) (2.0.7)\n",
            "Requirement already satisfied: certifi>=2017.4.17 in /usr/local/lib/python3.10/dist-packages (from requests->kakaotrans) (2023.11.17)\n",
            "Installing collected packages: kakaotrans\n",
            "Successfully installed kakaotrans-0.1.2\n"
          ]
        }
      ]
    },
    {
      "cell_type": "code",
      "source": [
        "pip install langid"
      ],
      "metadata": {
        "colab": {
          "base_uri": "https://localhost:8080/"
        },
        "id": "vxLYOraL-NBG",
        "outputId": "0ff619c0-6de0-4750-cba3-89a0abece1e7"
      },
      "execution_count": 25,
      "outputs": [
        {
          "output_type": "stream",
          "name": "stdout",
          "text": [
            "Collecting langid\n",
            "  Downloading langid-1.1.6.tar.gz (1.9 MB)\n",
            "\u001b[2K     \u001b[90m━━━━━━━━━━━━━━━━━━━━━━━━━━━━━━━━━━━━━━━━\u001b[0m \u001b[32m1.9/1.9 MB\u001b[0m \u001b[31m21.2 MB/s\u001b[0m eta \u001b[36m0:00:00\u001b[0m\n",
            "\u001b[?25h  Preparing metadata (setup.py) ... \u001b[?25l\u001b[?25hdone\n",
            "Requirement already satisfied: numpy in /usr/local/lib/python3.10/dist-packages (from langid) (1.23.5)\n",
            "Building wheels for collected packages: langid\n",
            "  Building wheel for langid (setup.py) ... \u001b[?25l\u001b[?25hdone\n",
            "  Created wheel for langid: filename=langid-1.1.6-py3-none-any.whl size=1941172 sha256=5427da2293360de5b12c784195b47ac338f216878402b24e0d5b5f127c45c7d7\n",
            "  Stored in directory: /root/.cache/pip/wheels/23/c8/c6/eed80894918490a175677414d40bd7c851413bbe03d4856c3c\n",
            "Successfully built langid\n",
            "Installing collected packages: langid\n",
            "Successfully installed langid-1.1.6\n"
          ]
        }
      ]
    },
    {
      "cell_type": "code",
      "source": [
        "from kakaotrans import Translator\n",
        "import langid\n",
        "\n",
        "translator = Translator()\n",
        "\n",
        "# Mapping detected language to kakaotrans language code\n",
        "lang_codes = {\n",
        "    'en': 'en',\n",
        "    'ko': 'kr',\n",
        "    # Add more mappings as needed\n",
        "}\n",
        "\n",
        "df['content_trans'] = None\n",
        "\n",
        "for i in range(len(df['Title'])):\n",
        "    # 언어 감지\n",
        "    src_lang, _ = langid.classify(df['Content'][i])\n",
        "\n",
        "    # 언어 코드 매핑\n",
        "    kakaotrans_src_lang = lang_codes.get(src_lang, 'auto')\n",
        "\n",
        "    # 영어로 번역\n",
        "    df['content_trans'][i] = translator.translate(df['Content'][i], src=kakaotrans_src_lang, tgt='en')\n",
        "\n"
      ],
      "metadata": {
        "id": "ZNjzgmi736iO"
      },
      "execution_count": 29,
      "outputs": []
    },
    {
      "cell_type": "code",
      "source": [
        "df['content_trans'][0]"
      ],
      "metadata": {
        "colab": {
          "base_uri": "https://localhost:8080/",
          "height": 36
        },
        "id": "HKd5Eiiy-6Xr",
        "outputId": "eecc8557-b9bf-4b3f-8d90-801f37861ff4"
      },
      "execution_count": 32,
      "outputs": [
        {
          "output_type": "execute_result",
          "data": {
            "text/plain": [
              "\"YG officially announced on the 6th that it has signed an exclusive contract for the group's activities based on deep trust after careful discussions with Black Pink, which plans to release a new album with the support of YG and go on a huge world tour again.\""
            ],
            "application/vnd.google.colaboratory.intrinsic+json": {
              "type": "string"
            }
          },
          "metadata": {},
          "execution_count": 32
        }
      ]
    },
    {
      "cell_type": "code",
      "source": [],
      "metadata": {
        "id": "5kAGt931ASf7"
      },
      "execution_count": null,
      "outputs": []
    }
  ]
}