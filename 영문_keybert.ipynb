{
  "nbformat": 4,
  "nbformat_minor": 0,
  "metadata": {
    "colab": {
      "provenance": []
    },
    "kernelspec": {
      "name": "python3",
      "display_name": "Python 3"
    },
    "language_info": {
      "name": "python"
    }
  },
  "cells": [
    {
      "cell_type": "markdown",
      "source": [
        "# 영어 번역"
      ],
      "metadata": {
        "id": "pXvem4ui2DCO"
      }
    },
    {
      "cell_type": "code",
      "execution_count": null,
      "metadata": {
        "id": "Pj6pGq1Q3Cvt"
      },
      "outputs": [],
      "source": [
        "# [[title1, content1, link1],[title2, content2, link2]]"
      ]
    },
    {
      "cell_type": "code",
      "source": [
        "import pandas as pd\n",
        "\n",
        "# 데이터 생성\n",
        "data = [[\"한국어\", '''\n",
        "2072년에는 우리나라 전체 인구 중 고령인구 비중이 약 48%에 달할 전망이다. 총인구를 연령순으로 나열할 때 한 가운데인 '중위연령'은 63.4세까지 높아진다.\n",
        "\n",
        "통계청이 14일 발표한 '장래인구추계: 2022~2072년'에 따르면 2023년 943만6000명인 65세 이상 고령인구는 2025년 처음 1000만명을 넘어 1051만4000명을 기록할 것으로 전망된다.\n",
        "\n",
        "고령인구는 2050년 1890만8000명까지 증가한 후 감소해 2072년에는 1727만1000명에 이른다. 전체 인구 중 고령인구 비중은 2022년 17.4%에서 빠르게 증가해 2072년 47.7%를 차지한다.\n",
        "\n",
        "15~64세 생산연령인구는 2022년 3674만명에서 2030년 3417만명, 2072년 1658만명으로 빠르게 감소할 전망이다. 베이비붐 세대(1955~1963년생)가 고령인구로 이동하는 2020년대에는 생산연령인구가 연평균 32만명, 2030년대는 연평균 50만명 각각 줄어들 것으로 예상된다.\n",
        "\n",
        "중위연령은 2022년 44.9세에서 2031년 50세를 넘어서고 2072년 63.4세까지 높아질 전망이다. 2022년에는 총인구의 50%가 44세 이상인데 2072년에는 총인구의 50%가 63세 이상일 것으로 예측했다.\n",
        "\n",
        "생산연령인구 100명당 부양해야 하는 인구(유소년·고령인구)인 총부양비는 2022년 40.6명에서 2058년에 100명을 넘어서고 2072년에는 118.5명으로 높아진다. 노년부양비만 놓고 보면 2022년 24.4명에서 2036년 50명을 넘고, 2072년 104.2명으로 2022년 대비 4.3배 높아질 전망이다.\n",
        "\n",
        "2022년 현재 인구피라미드는 30~50대가 두터운 '항아리형'이지만 점차 60세 이상이 점차 두터워지는 역삼각형 구조로 변화될 전망이다.\n",
        "\n",
        "한편 국제 사회와 비교해 보면 한국의 생산연령인구 비중은 2022년 71.1%로 OECD(경제협력개발기구) 회원국 중 가장 높은 수준이지만 2072년(45.8%)에는 가장 낮아질 전망이다.\n",
        "\n",
        "한국의 고령인구 비중은 2022년 17.4%로 OECD 국가 평균보다 낮은 수준이지만 2072년(47.7%)에는 가장 높아질 것으로 예상된다. 한국의 노년부양비는 2022년 24.4명으로 OECD 국가 중 하위 10위 수준이지만 2072년(104.2명)에는 가장 높은 수준이 될 것으로 보인다.\n",
        "\n",
        "''', \"link1\"]]\n",
        "\n",
        "# 데이터프레임 생성\n",
        "df = pd.DataFrame(data, columns=[\"Title\", \"Content\", \"Link\"])\n",
        "\n",
        "# 생성된 데이터프레임 출력\n",
        "print(df)\n"
      ],
      "metadata": {
        "colab": {
          "base_uri": "https://localhost:8080/"
        },
        "id": "nIwURvfX36XM",
        "outputId": "9745d489-55b4-4b54-b3f9-b55b8f316dd9"
      },
      "execution_count": 14,
      "outputs": [
        {
          "output_type": "stream",
          "name": "stdout",
          "text": [
            "  Title                                            Content   Link\n",
            "0   한국어  \\n2072년에는 우리나라 전체 인구 중 고령인구 비중이 약 48%에 달할 전망이다...  link1\n"
          ]
        }
      ]
    },
    {
      "cell_type": "code",
      "source": [
        "pip install kakaotrans"
      ],
      "metadata": {
        "colab": {
          "base_uri": "https://localhost:8080/"
        },
        "id": "X75Aobbj36eg",
        "outputId": "217922b0-1bd6-4742-d8ab-ae8351738a9d"
      },
      "execution_count": 3,
      "outputs": [
        {
          "output_type": "stream",
          "name": "stdout",
          "text": [
            "Collecting kakaotrans\n",
            "  Downloading kakaotrans-0.1.2-py3-none-any.whl (5.2 kB)\n",
            "Requirement already satisfied: requests in /usr/local/lib/python3.10/dist-packages (from kakaotrans) (2.31.0)\n",
            "Requirement already satisfied: charset-normalizer<4,>=2 in /usr/local/lib/python3.10/dist-packages (from requests->kakaotrans) (3.3.2)\n",
            "Requirement already satisfied: idna<4,>=2.5 in /usr/local/lib/python3.10/dist-packages (from requests->kakaotrans) (3.6)\n",
            "Requirement already satisfied: urllib3<3,>=1.21.1 in /usr/local/lib/python3.10/dist-packages (from requests->kakaotrans) (2.0.7)\n",
            "Requirement already satisfied: certifi>=2017.4.17 in /usr/local/lib/python3.10/dist-packages (from requests->kakaotrans) (2023.11.17)\n",
            "Installing collected packages: kakaotrans\n",
            "Successfully installed kakaotrans-0.1.2\n"
          ]
        }
      ]
    },
    {
      "cell_type": "code",
      "source": [
        "pip install langid"
      ],
      "metadata": {
        "colab": {
          "base_uri": "https://localhost:8080/"
        },
        "id": "vxLYOraL-NBG",
        "outputId": "67dde952-545b-44be-80eb-e42a8afc0037"
      },
      "execution_count": 4,
      "outputs": [
        {
          "output_type": "stream",
          "name": "stdout",
          "text": [
            "Collecting langid\n",
            "  Downloading langid-1.1.6.tar.gz (1.9 MB)\n",
            "\u001b[2K     \u001b[90m━━━━━━━━━━━━━━━━━━━━━━━━━━━━━━━━━━━━━━━━\u001b[0m \u001b[32m1.9/1.9 MB\u001b[0m \u001b[31m7.9 MB/s\u001b[0m eta \u001b[36m0:00:00\u001b[0m\n",
            "\u001b[?25h  Preparing metadata (setup.py) ... \u001b[?25l\u001b[?25hdone\n",
            "Requirement already satisfied: numpy in /usr/local/lib/python3.10/dist-packages (from langid) (1.23.5)\n",
            "Building wheels for collected packages: langid\n",
            "  Building wheel for langid (setup.py) ... \u001b[?25l\u001b[?25hdone\n",
            "  Created wheel for langid: filename=langid-1.1.6-py3-none-any.whl size=1941172 sha256=d068703158a3f14575824e53b4ef10f7416fc78d706976553291d0333a6457da\n",
            "  Stored in directory: /root/.cache/pip/wheels/23/c8/c6/eed80894918490a175677414d40bd7c851413bbe03d4856c3c\n",
            "Successfully built langid\n",
            "Installing collected packages: langid\n",
            "Successfully installed langid-1.1.6\n"
          ]
        }
      ]
    },
    {
      "cell_type": "code",
      "source": [
        "from kakaotrans import Translator\n",
        "import langid\n",
        "\n",
        "translator = Translator()\n",
        "\n",
        "# Mapping detected language to kakaotrans language code\n",
        "lang_codes = {\n",
        "    'en': 'en',\n",
        "    'ko': 'kr',\n",
        "    # Add more mappings as needed\n",
        "}\n",
        "\n",
        "df['content_trans'] = None\n",
        "\n",
        "for i in range(len(df['Title'])):\n",
        "    # 언어 감지\n",
        "    src_lang, _ = langid.classify(df['Content'][i])\n",
        "\n",
        "    # 언어 코드 매핑\n",
        "    kakaotrans_src_lang = lang_codes.get(src_lang, 'auto')\n",
        "\n",
        "    # 영어로 번역\n",
        "    df['content_trans'][i] = translator.translate(df['Content'][i], src=kakaotrans_src_lang, tgt='en')\n",
        "\n"
      ],
      "metadata": {
        "id": "ZNjzgmi736iO"
      },
      "execution_count": 15,
      "outputs": []
    },
    {
      "cell_type": "code",
      "source": [
        "df['content_trans'][0]"
      ],
      "metadata": {
        "colab": {
          "base_uri": "https://localhost:8080/",
          "height": 108
        },
        "id": "HKd5Eiiy-6Xr",
        "outputId": "90c048d2-61fc-4f33-8076-b6268fbe7e97"
      },
      "execution_count": 16,
      "outputs": [
        {
          "output_type": "execute_result",
          "data": {
            "text/plain": [
              "'In 2072, the proportion of the elderly population in Korea is expected to reach about 48%. When the total population is listed in order of age, the middle age will increase to 63.4 years. According to the \"Future Population Estimate: 2022-2072\" released by the National Statistical Office on the 14th, the number of elderly people aged 65 or older, which is 9,436,000 in 2023, is expected to exceed 10 million for the first time in 2025 to reach 10,514,000. The elderly population will increase to 18.98 million in 2050 and then decrease to 17.27 million in 2072, with the proportion of the elderly rapidly increasing from 17.4% in 2022 to 47.7% in 2072. The production age population aged 15 to 64 is expected to decline rapidly from 36.74 million in 2022 to 34.17 million in 2030 and 16.58 million in 2072. In the 2020s, when baby boomers (born between 1955 and 1963) move to the elderly population, the production age population is expected to decrease by an average of 320,000 per year, and by the 2030s, the average annual decrease is expected to be 500,000. The median age is expected to rise from 44.9 in 2022 to over 50 in 2031 and to 63.4 in 2072. The total support ratio, which is the population (youth and elderly population) that needs to be supported per 100 working-age population, will rise from 40.6 in 2022 to over 100 in 2058 and to 118.5 in 2072. In terms of old age support costs alone, it is expected to increase from 24.4 in 2022 to more than 50 in 2036 and 104.2 in 2072, 4.3 times higher than in 2022. As of 2022, the population pyramid is expected to change into an inverted triangle structure, which is gradually becoming thicker than 60 years old, although it is a \\'jar type\\' with thick 30s and 50s. Compared to the international community, the percentage of working-age population in Korea is 71.1% in 2022, the highest among OECD member countries, but it is expected to be the lowest in 2072 (45.8%). Korea\\'s elderly population is 17.4% in 2022, which is lower than the OECD average, but it is expected to be the highest in 2072 (47.7%). Korea\\'s elderly support ratio is 24.4 in 2022, the lowest level among OECD countries, but it is expected to be the highest level in 2072 (104.2).'"
            ],
            "application/vnd.google.colaboratory.intrinsic+json": {
              "type": "string"
            }
          },
          "metadata": {},
          "execution_count": 16
        }
      ]
    },
    {
      "cell_type": "markdown",
      "source": [
        "# 키워드 추출"
      ],
      "metadata": {
        "id": "l-xQYf332F2V"
      }
    },
    {
      "cell_type": "markdown",
      "source": [
        "keybert import"
      ],
      "metadata": {
        "id": "bEHNhS1E55wy"
      }
    },
    {
      "cell_type": "code",
      "source": [
        "pip install keybert"
      ],
      "metadata": {
        "colab": {
          "base_uri": "https://localhost:8080/"
        },
        "id": "tk3todv32Ixs",
        "outputId": "f527cbbe-10fe-49a8-b1d3-3525232843ca"
      },
      "execution_count": 1,
      "outputs": [
        {
          "output_type": "stream",
          "name": "stdout",
          "text": [
            "Collecting keybert\n",
            "  Downloading keybert-0.8.3.tar.gz (29 kB)\n",
            "  Preparing metadata (setup.py) ... \u001b[?25l\u001b[?25hdone\n",
            "Collecting sentence-transformers>=0.3.8 (from keybert)\n",
            "  Downloading sentence-transformers-2.2.2.tar.gz (85 kB)\n",
            "\u001b[2K     \u001b[90m━━━━━━━━━━━━━━━━━━━━━━━━━━━━━━━━━━━━━━━━\u001b[0m \u001b[32m86.0/86.0 kB\u001b[0m \u001b[31m3.6 MB/s\u001b[0m eta \u001b[36m0:00:00\u001b[0m\n",
            "\u001b[?25h  Preparing metadata (setup.py) ... \u001b[?25l\u001b[?25hdone\n",
            "Requirement already satisfied: scikit-learn>=0.22.2 in /usr/local/lib/python3.10/dist-packages (from keybert) (1.2.2)\n",
            "Requirement already satisfied: numpy>=1.18.5 in /usr/local/lib/python3.10/dist-packages (from keybert) (1.23.5)\n",
            "Requirement already satisfied: rich>=10.4.0 in /usr/local/lib/python3.10/dist-packages (from keybert) (13.7.0)\n",
            "Requirement already satisfied: markdown-it-py>=2.2.0 in /usr/local/lib/python3.10/dist-packages (from rich>=10.4.0->keybert) (3.0.0)\n",
            "Requirement already satisfied: pygments<3.0.0,>=2.13.0 in /usr/local/lib/python3.10/dist-packages (from rich>=10.4.0->keybert) (2.16.1)\n",
            "Requirement already satisfied: scipy>=1.3.2 in /usr/local/lib/python3.10/dist-packages (from scikit-learn>=0.22.2->keybert) (1.11.4)\n",
            "Requirement already satisfied: joblib>=1.1.1 in /usr/local/lib/python3.10/dist-packages (from scikit-learn>=0.22.2->keybert) (1.3.2)\n",
            "Requirement already satisfied: threadpoolctl>=2.0.0 in /usr/local/lib/python3.10/dist-packages (from scikit-learn>=0.22.2->keybert) (3.2.0)\n",
            "Requirement already satisfied: transformers<5.0.0,>=4.6.0 in /usr/local/lib/python3.10/dist-packages (from sentence-transformers>=0.3.8->keybert) (4.35.2)\n",
            "Requirement already satisfied: tqdm in /usr/local/lib/python3.10/dist-packages (from sentence-transformers>=0.3.8->keybert) (4.66.1)\n",
            "Requirement already satisfied: torch>=1.6.0 in /usr/local/lib/python3.10/dist-packages (from sentence-transformers>=0.3.8->keybert) (2.1.0+cu118)\n",
            "Requirement already satisfied: torchvision in /usr/local/lib/python3.10/dist-packages (from sentence-transformers>=0.3.8->keybert) (0.16.0+cu118)\n",
            "Requirement already satisfied: nltk in /usr/local/lib/python3.10/dist-packages (from sentence-transformers>=0.3.8->keybert) (3.8.1)\n",
            "Collecting sentencepiece (from sentence-transformers>=0.3.8->keybert)\n",
            "  Downloading sentencepiece-0.1.99-cp310-cp310-manylinux_2_17_x86_64.manylinux2014_x86_64.whl (1.3 MB)\n",
            "\u001b[2K     \u001b[90m━━━━━━━━━━━━━━━━━━━━━━━━━━━━━━━━━━━━━━━━\u001b[0m \u001b[32m1.3/1.3 MB\u001b[0m \u001b[31m9.5 MB/s\u001b[0m eta \u001b[36m0:00:00\u001b[0m\n",
            "\u001b[?25hRequirement already satisfied: huggingface-hub>=0.4.0 in /usr/local/lib/python3.10/dist-packages (from sentence-transformers>=0.3.8->keybert) (0.19.4)\n",
            "Requirement already satisfied: filelock in /usr/local/lib/python3.10/dist-packages (from huggingface-hub>=0.4.0->sentence-transformers>=0.3.8->keybert) (3.13.1)\n",
            "Requirement already satisfied: fsspec>=2023.5.0 in /usr/local/lib/python3.10/dist-packages (from huggingface-hub>=0.4.0->sentence-transformers>=0.3.8->keybert) (2023.6.0)\n",
            "Requirement already satisfied: requests in /usr/local/lib/python3.10/dist-packages (from huggingface-hub>=0.4.0->sentence-transformers>=0.3.8->keybert) (2.31.0)\n",
            "Requirement already satisfied: pyyaml>=5.1 in /usr/local/lib/python3.10/dist-packages (from huggingface-hub>=0.4.0->sentence-transformers>=0.3.8->keybert) (6.0.1)\n",
            "Requirement already satisfied: typing-extensions>=3.7.4.3 in /usr/local/lib/python3.10/dist-packages (from huggingface-hub>=0.4.0->sentence-transformers>=0.3.8->keybert) (4.5.0)\n",
            "Requirement already satisfied: packaging>=20.9 in /usr/local/lib/python3.10/dist-packages (from huggingface-hub>=0.4.0->sentence-transformers>=0.3.8->keybert) (23.2)\n",
            "Requirement already satisfied: mdurl~=0.1 in /usr/local/lib/python3.10/dist-packages (from markdown-it-py>=2.2.0->rich>=10.4.0->keybert) (0.1.2)\n",
            "Requirement already satisfied: sympy in /usr/local/lib/python3.10/dist-packages (from torch>=1.6.0->sentence-transformers>=0.3.8->keybert) (1.12)\n",
            "Requirement already satisfied: networkx in /usr/local/lib/python3.10/dist-packages (from torch>=1.6.0->sentence-transformers>=0.3.8->keybert) (3.2.1)\n",
            "Requirement already satisfied: jinja2 in /usr/local/lib/python3.10/dist-packages (from torch>=1.6.0->sentence-transformers>=0.3.8->keybert) (3.1.2)\n",
            "Requirement already satisfied: triton==2.1.0 in /usr/local/lib/python3.10/dist-packages (from torch>=1.6.0->sentence-transformers>=0.3.8->keybert) (2.1.0)\n",
            "Requirement already satisfied: regex!=2019.12.17 in /usr/local/lib/python3.10/dist-packages (from transformers<5.0.0,>=4.6.0->sentence-transformers>=0.3.8->keybert) (2023.6.3)\n",
            "Requirement already satisfied: tokenizers<0.19,>=0.14 in /usr/local/lib/python3.10/dist-packages (from transformers<5.0.0,>=4.6.0->sentence-transformers>=0.3.8->keybert) (0.15.0)\n",
            "Requirement already satisfied: safetensors>=0.3.1 in /usr/local/lib/python3.10/dist-packages (from transformers<5.0.0,>=4.6.0->sentence-transformers>=0.3.8->keybert) (0.4.1)\n",
            "Requirement already satisfied: click in /usr/local/lib/python3.10/dist-packages (from nltk->sentence-transformers>=0.3.8->keybert) (8.1.7)\n",
            "Requirement already satisfied: pillow!=8.3.*,>=5.3.0 in /usr/local/lib/python3.10/dist-packages (from torchvision->sentence-transformers>=0.3.8->keybert) (9.4.0)\n",
            "Requirement already satisfied: MarkupSafe>=2.0 in /usr/local/lib/python3.10/dist-packages (from jinja2->torch>=1.6.0->sentence-transformers>=0.3.8->keybert) (2.1.3)\n",
            "Requirement already satisfied: charset-normalizer<4,>=2 in /usr/local/lib/python3.10/dist-packages (from requests->huggingface-hub>=0.4.0->sentence-transformers>=0.3.8->keybert) (3.3.2)\n",
            "Requirement already satisfied: idna<4,>=2.5 in /usr/local/lib/python3.10/dist-packages (from requests->huggingface-hub>=0.4.0->sentence-transformers>=0.3.8->keybert) (3.6)\n",
            "Requirement already satisfied: urllib3<3,>=1.21.1 in /usr/local/lib/python3.10/dist-packages (from requests->huggingface-hub>=0.4.0->sentence-transformers>=0.3.8->keybert) (2.0.7)\n",
            "Requirement already satisfied: certifi>=2017.4.17 in /usr/local/lib/python3.10/dist-packages (from requests->huggingface-hub>=0.4.0->sentence-transformers>=0.3.8->keybert) (2023.11.17)\n",
            "Requirement already satisfied: mpmath>=0.19 in /usr/local/lib/python3.10/dist-packages (from sympy->torch>=1.6.0->sentence-transformers>=0.3.8->keybert) (1.3.0)\n",
            "Building wheels for collected packages: keybert, sentence-transformers\n",
            "  Building wheel for keybert (setup.py) ... \u001b[?25l\u001b[?25hdone\n",
            "  Created wheel for keybert: filename=keybert-0.8.3-py3-none-any.whl size=39124 sha256=1fc77d0fd9ab3b6b44ac6290a245265809edc19bb967e482f95ca361d83d2d93\n",
            "  Stored in directory: /root/.cache/pip/wheels/70/88/07/1a3bc11fd1dd5f89924a02dcbca89a3015e25e8faa31f904dc\n",
            "  Building wheel for sentence-transformers (setup.py) ... \u001b[?25l\u001b[?25hdone\n",
            "  Created wheel for sentence-transformers: filename=sentence_transformers-2.2.2-py3-none-any.whl size=125923 sha256=d568686d8d1aacbcb03a3a7b58e42133eab69de018dfc5091f764bd3e8ad42ad\n",
            "  Stored in directory: /root/.cache/pip/wheels/62/f2/10/1e606fd5f02395388f74e7462910fe851042f97238cbbd902f\n",
            "Successfully built keybert sentence-transformers\n",
            "Installing collected packages: sentencepiece, sentence-transformers, keybert\n",
            "Successfully installed keybert-0.8.3 sentence-transformers-2.2.2 sentencepiece-0.1.99\n"
          ]
        }
      ]
    },
    {
      "cell_type": "markdown",
      "source": [
        "키워드 추출 진행\n",
        "keyphrase_ngram_range = 키워드 단어 개수\n",
        "\n",
        "stop_words = 불용어 처리\n",
        "\n",
        "use_mmr = 문서와 관련성과 이미 선택된 키워드와의 유사성을 동시에 고려하여 키워드의 다양성을 증진\n",
        "\n",
        "use_maxsum = 후보 키워드에 점수를 할당하고 총 점수를 최대화하는 일부 키워드를 선택\n"
      ],
      "metadata": {
        "id": "NyEzavkH5_Hf"
      }
    },
    {
      "cell_type": "code",
      "source": [
        "from keybert import KeyBERT"
      ],
      "metadata": {
        "id": "-vtU133l5-x-"
      },
      "execution_count": 7,
      "outputs": []
    },
    {
      "cell_type": "code",
      "source": [
        "doc = df['content_trans'][0]"
      ],
      "metadata": {
        "id": "M06iiog-6DUd"
      },
      "execution_count": 18,
      "outputs": []
    },
    {
      "cell_type": "markdown",
      "source": [
        "max_sum 사용"
      ],
      "metadata": {
        "id": "Ht6HCJtN8aC-"
      }
    },
    {
      "cell_type": "code",
      "source": [
        "kw_model = KeyBERT()\n",
        "kw_model.extract_keywords(doc, keyphrase_ngram_range=(1, 3), stop_words='english', use_maxsum=True, nr_candidates=20, top_n=5, highlight = True)"
      ],
      "metadata": {
        "colab": {
          "base_uri": "https://localhost:8080/",
          "height": 412
        },
        "id": "qcsKJHvO6RUT",
        "outputId": "ec3f8d1a-c972-47d2-f7b2-52a9e0406999"
      },
      "execution_count": 21,
      "outputs": [
        {
          "output_type": "display_data",
          "data": {
            "text/plain": [
              "In 2072 the proportion of the elderly population in Korea is expected to reach about 48 When the total population \n",
              "is listed in order of age the middle age will increase to 63 years According to the Future \u001b[30;48;2;255;255;0mPopulation Estimate 2022\u001b[0m\n",
              "released by the National Statistical Office on the 14th the number of elderly people aged 65 or older which is 436 \n",
              "000 in 2023 is expected to exceed 10 million for the first time in 2025 to reach 10 514 000 The elderly population \n",
              "will increase to 18 98 million in 2050 and then decrease to 17 27 million in 2072 with the proportion of the \n",
              "elderly rapidly increasing from 17 in 2022 to 47 in 2072 The production age population aged 15 to 64 is expected to\n",
              "decline rapidly from 36 74 million in 2022 to 34 17 million in 2030 and 16 58 million in 2072 In the 2020s when \n",
              "baby boomers born between 1955 and 1963 move to the elderly population the production age population is expected to\n",
              "decrease by an average of 320 000 per year and by the 2030s the average annual decrease is expected to be 500 000 \n",
              "The median age is expected to rise from 44 in 2022 to over 50 in 2031 and to 63 in 2072 The total support ratio \n",
              "which is the population youth and elderly population that needs to be supported per 100 working age population will\n",
              "rise from 40 in 2022 to over 100 in 2058 and to 118 in 2072 In terms of old age support costs alone it is expected \n",
              "to increase from 24 in 2022 to more than 50 in 2036 and 104 in 2072 times higher than in 2022 As of 2022 the \n",
              "population pyramid is expected to change into an inverted triangle structure which is gradually becoming thicker \n",
              "than 60 years old although it is jar type with thick 30s and 50s Compared to the international community the \n",
              "percentage of working age population in Korea is 71 in 2022 the highest among OECD member countries but it is \n",
              "expected to be the lowest in 2072 45 Korea elderly population is 17 in 2022 which is lower than the OECD average \n",
              "but it is expected to be the highest in 2072 \u001b[30;48;2;255;255;0m47 Korea elderly\u001b[0m ratio is 24 in 2022 the lowest level among OECD \n",
              "countries but it is expected to be the highest level in 2072 104\n"
            ],
            "text/html": [
              "<pre style=\"white-space:pre;overflow-x:auto;line-height:normal;font-family:Menlo,'DejaVu Sans Mono',consolas,'Courier New',monospace\">In 2072 the proportion of the elderly population in Korea is expected to reach about 48 When the total population \n",
              "is listed in order of age the middle age will increase to 63 years According to the Future <span style=\"color: #000000; text-decoration-color: #000000; background-color: #ffff00\">Population Estimate 2022</span>\n",
              "released by the National Statistical Office on the 14th the number of elderly people aged 65 or older which is 436 \n",
              "000 in 2023 is expected to exceed 10 million for the first time in 2025 to reach 10 514 000 The elderly population \n",
              "will increase to 18 98 million in 2050 and then decrease to 17 27 million in 2072 with the proportion of the \n",
              "elderly rapidly increasing from 17 in 2022 to 47 in 2072 The production age population aged 15 to 64 is expected to\n",
              "decline rapidly from 36 74 million in 2022 to 34 17 million in 2030 and 16 58 million in 2072 In the 2020s when \n",
              "baby boomers born between 1955 and 1963 move to the elderly population the production age population is expected to\n",
              "decrease by an average of 320 000 per year and by the 2030s the average annual decrease is expected to be 500 000 \n",
              "The median age is expected to rise from 44 in 2022 to over 50 in 2031 and to 63 in 2072 The total support ratio \n",
              "which is the population youth and elderly population that needs to be supported per 100 working age population will\n",
              "rise from 40 in 2022 to over 100 in 2058 and to 118 in 2072 In terms of old age support costs alone it is expected \n",
              "to increase from 24 in 2022 to more than 50 in 2036 and 104 in 2072 times higher than in 2022 As of 2022 the \n",
              "population pyramid is expected to change into an inverted triangle structure which is gradually becoming thicker \n",
              "than 60 years old although it is jar type with thick 30s and 50s Compared to the international community the \n",
              "percentage of working age population in Korea is 71 in 2022 the highest among OECD member countries but it is \n",
              "expected to be the lowest in 2072 45 Korea elderly population is 17 in 2022 which is lower than the OECD average \n",
              "but it is expected to be the highest in 2072 <span style=\"color: #000000; text-decoration-color: #000000; background-color: #ffff00\">47 Korea elderly</span> ratio is 24 in 2022 the lowest level among OECD \n",
              "countries but it is expected to be the highest level in 2072 104\n",
              "</pre>\n"
            ]
          },
          "metadata": {}
        },
        {
          "output_type": "execute_result",
          "data": {
            "text/plain": [
              "[('population estimate 2022', 0.5674),\n",
              " ('47 korea elderly', 0.5675),\n",
              " ('year 2030s average', 0.5707),\n",
              " ('population korea', 0.587),\n",
              " ('elderly population production', 0.6097)]"
            ]
          },
          "metadata": {},
          "execution_count": 21
        }
      ]
    },
    {
      "cell_type": "markdown",
      "source": [
        "mmr 사용"
      ],
      "metadata": {
        "id": "DYpK78FV8hVq"
      }
    },
    {
      "cell_type": "code",
      "source": [
        "kw_model.extract_keywords(doc, keyphrase_ngram_range=(1, 3), stop_words='english',\n",
        "                              use_mmr=True, diversity=0.7, highlight = True)"
      ],
      "metadata": {
        "colab": {
          "base_uri": "https://localhost:8080/",
          "height": 412
        },
        "id": "A8cwDZhb6Tpd",
        "outputId": "f871e4cd-3841-4485-e7a5-885bf0cefcc1"
      },
      "execution_count": 22,
      "outputs": [
        {
          "output_type": "display_data",
          "data": {
            "text/plain": [
              "In 2072 the proportion of the elderly population in Korea is expected to reach about 48 When the total population \n",
              "is listed in order of age the middle age will increase to 63 years According to the Future Population Estimate 2022\n",
              "2072 released by the National Statistical Office on the 14th the number of elderly people aged 65 or older which is\n",
              "436 000 in 2023 is expected to exceed 10 million for the first time in 2025 to reach 10 514 000 The elderly \n",
              "population will increase to 18 98 million in 2050 and then decrease to 17 27 million in 2072 with the proportion of\n",
              "the elderly rapidly increasing from 17 in 2022 to 47 in 2072 The production age population aged 15 to 64 is \n",
              "expected to decline rapidly from 36 74 million in 2022 to 34 17 million in 2030 and 16 58 million in 2072 In the \n",
              "2020s when baby \u001b[30;48;2;255;255;0mboomers\u001b[0m born between between 1955 and 1963 move to the elderly population the production age \n",
              "population is expected to decrease by an average of 320 000 per year and by the 2030s the average annual decrease \n",
              "is expected to be 500 000 The median age is expected to rise from 44 in 2022 to over 50 in 2031 and to 63 in 2072 \n",
              "The total support ratio which is the population youth and elderly population that needs to be supported per 100 \n",
              "working age population will rise from 40 in 2022 to over 100 in 2058 and to 118 in 2072 In terms of old age support\n",
              "costs alone it is expected to increase from 24 in 2022 to more than 50 in 2036 and 104 in 2072 times higher than in\n",
              "2022 As of 2022 the population pyramid is expected to change into an inverted triangle structure which is gradually\n",
              "becoming thicker than 60 years old although it is jar type with thick 30s and 50s Compared to the international \n",
              "community the percentage of working age population in Korea is 71 in 2022 the highest among OECD member countries \n",
              "but it is expected to be the lowest in 2072 45 Korea elderly population is 17 in 2022 which is lower than the OECD \n",
              "average but it is expected to be the highest in 2072 47 Korea elderly support ratio is 24 in 2022 the lowest level \n",
              "among OECD countries but it is expected to be the highest level in 2072 104\n"
            ],
            "text/html": [
              "<pre style=\"white-space:pre;overflow-x:auto;line-height:normal;font-family:Menlo,'DejaVu Sans Mono',consolas,'Courier New',monospace\">In 2072 the proportion of the elderly population in Korea is expected to reach about 48 When the total population \n",
              "is listed in order of age the middle age will increase to 63 years According to the Future Population Estimate 2022\n",
              "2072 released by the National Statistical Office on the 14th the number of elderly people aged 65 or older which is\n",
              "436 000 in 2023 is expected to exceed 10 million for the first time in 2025 to reach 10 514 000 The elderly \n",
              "population will increase to 18 98 million in 2050 and then decrease to 17 27 million in 2072 with the proportion of\n",
              "the elderly rapidly increasing from 17 in 2022 to 47 in 2072 The production age population aged 15 to 64 is \n",
              "expected to decline rapidly from 36 74 million in 2022 to 34 17 million in 2030 and 16 58 million in 2072 In the \n",
              "2020s when baby <span style=\"color: #000000; text-decoration-color: #000000; background-color: #ffff00\">boomers</span> born between between 1955 and 1963 move to the elderly population the production age \n",
              "population is expected to decrease by an average of 320 000 per year and by the 2030s the average annual decrease \n",
              "is expected to be 500 000 The median age is expected to rise from 44 in 2022 to over 50 in 2031 and to 63 in 2072 \n",
              "The total support ratio which is the population youth and elderly population that needs to be supported per 100 \n",
              "working age population will rise from 40 in 2022 to over 100 in 2058 and to 118 in 2072 In terms of old age support\n",
              "costs alone it is expected to increase from 24 in 2022 to more than 50 in 2036 and 104 in 2072 times higher than in\n",
              "2022 As of 2022 the population pyramid is expected to change into an inverted triangle structure which is gradually\n",
              "becoming thicker than 60 years old although it is jar type with thick 30s and 50s Compared to the international \n",
              "community the percentage of working age population in Korea is 71 in 2022 the highest among OECD member countries \n",
              "but it is expected to be the lowest in 2072 45 Korea elderly population is 17 in 2022 which is lower than the OECD \n",
              "average but it is expected to be the highest in 2072 47 Korea elderly support ratio is 24 in 2022 the lowest level \n",
              "among OECD countries but it is expected to be the highest level in 2072 104\n",
              "</pre>\n"
            ]
          },
          "metadata": {}
        },
        {
          "output_type": "execute_result",
          "data": {
            "text/plain": [
              "[('age population korea', 0.703),\n",
              " ('2072 production', 0.3146),\n",
              " ('boomers', 0.3145),\n",
              " ('decrease expected 500', 0.194),\n",
              " ('triangle structure gradually', 0.0148)]"
            ]
          },
          "metadata": {},
          "execution_count": 22
        }
      ]
    },
    {
      "cell_type": "markdown",
      "source": [
        "기본 키버트 사용"
      ],
      "metadata": {
        "id": "gom7NgKt94RN"
      }
    },
    {
      "cell_type": "code",
      "source": [
        "kw_model.extract_keywords(doc, keyphrase_ngram_range=(1, 2), stop_words=None, highlight = True)"
      ],
      "metadata": {
        "colab": {
          "base_uri": "https://localhost:8080/",
          "height": 412
        },
        "id": "_2jlQRd9961h",
        "outputId": "3fb548f7-83a0-471b-ef06-dec5ff2fde05"
      },
      "execution_count": 26,
      "outputs": [
        {
          "output_type": "display_data",
          "data": {
            "text/plain": [
              "In 2072 the proportion of the \u001b[30;48;2;255;255;0melderly population\u001b[0m Korea is expected to reach about 48 When the total population is \n",
              "listed in order of age the middle age will increase to 63 years According to the \u001b[30;48;2;255;255;0mFuture Population\u001b[0m 2022 2072 \n",
              "released by the National Statistical Office on the 14th the number of elderly people aged 65 or older which is 436 \n",
              "000 in 2023 is expected to exceed 10 million for the first time in 2025 to reach 10 514 000 The \u001b[30;48;2;255;255;0melderly population\u001b[0m \n",
              "increase to 18 98 million in 2050 and then decrease to 17 27 million in 2072 with the proportion of the elderly \n",
              "rapidly increasing from 17 in 2022 to 47 in 2072 The production \u001b[30;48;2;255;255;0mage population\u001b[0m 15 to 64 is expected to decline \n",
              "rapidly from 36 74 million in 2022 to 34 17 million in 2030 and 16 58 million in 2072 In the 2020s when baby \n",
              "boomers born between 1955 and 1963 move to the \u001b[30;48;2;255;255;0melderly population\u001b[0m production \u001b[30;48;2;255;255;0mage population\u001b[0m expected to decrease by\n",
              "an average of 320 000 per year and by the 2030s the average annual decrease is expected to be 500 000 The median \n",
              "age is expected to rise from 44 in 2022 to over 50 in 2031 and to 63 in 2072 The total support ratio which is the \n",
              "population youth and \u001b[30;48;2;255;255;0melderly population\u001b[0m needs to be supported per 100 working \u001b[30;48;2;255;255;0mage population\u001b[0m rise from 40 in 2022 \n",
              "to over 100 in 2058 and to 118 in 2072 In terms of old age support costs alone it is expected to increase from 24 \n",
              "in 2022 to more than 50 in 2036 and 104 in 2072 times higher than in 2022 As of 2022 the population pyramid is \n",
              "expected to change into an inverted triangle structure which is gradually becoming thicker than 60 years old \n",
              "although it is jar type with thick 30s and 50s Compared to the international community the percentage of working \n",
              "\u001b[30;48;2;255;255;0mage population\u001b[0m Korea is 71 in 2022 the highest among OECD member countries but it is expected to be the lowest in \n",
              "2072 45 \u001b[30;48;2;255;255;0mKorea elderly\u001b[0m is 17 in 2022 which is lower than the OECD average but it is expected to be the highest in \n",
              "2072 47 \u001b[30;48;2;255;255;0mKorea elderly\u001b[0m ratio is 24 in 2022 the lowest level among OECD countries but it is expected to be the \n",
              "highest level in 2072 104\n"
            ],
            "text/html": [
              "<pre style=\"white-space:pre;overflow-x:auto;line-height:normal;font-family:Menlo,'DejaVu Sans Mono',consolas,'Courier New',monospace\">In 2072 the proportion of the <span style=\"color: #000000; text-decoration-color: #000000; background-color: #ffff00\">elderly population</span> Korea is expected to reach about 48 When the total population is \n",
              "listed in order of age the middle age will increase to 63 years According to the <span style=\"color: #000000; text-decoration-color: #000000; background-color: #ffff00\">Future Population</span> 2022 2072 \n",
              "released by the National Statistical Office on the 14th the number of elderly people aged 65 or older which is 436 \n",
              "000 in 2023 is expected to exceed 10 million for the first time in 2025 to reach 10 514 000 The <span style=\"color: #000000; text-decoration-color: #000000; background-color: #ffff00\">elderly population</span> \n",
              "increase to 18 98 million in 2050 and then decrease to 17 27 million in 2072 with the proportion of the elderly \n",
              "rapidly increasing from 17 in 2022 to 47 in 2072 The production <span style=\"color: #000000; text-decoration-color: #000000; background-color: #ffff00\">age population</span> 15 to 64 is expected to decline \n",
              "rapidly from 36 74 million in 2022 to 34 17 million in 2030 and 16 58 million in 2072 In the 2020s when baby \n",
              "boomers born between 1955 and 1963 move to the <span style=\"color: #000000; text-decoration-color: #000000; background-color: #ffff00\">elderly population</span> production <span style=\"color: #000000; text-decoration-color: #000000; background-color: #ffff00\">age population</span> expected to decrease by\n",
              "an average of 320 000 per year and by the 2030s the average annual decrease is expected to be 500 000 The median \n",
              "age is expected to rise from 44 in 2022 to over 50 in 2031 and to 63 in 2072 The total support ratio which is the \n",
              "population youth and <span style=\"color: #000000; text-decoration-color: #000000; background-color: #ffff00\">elderly population</span> needs to be supported per 100 working <span style=\"color: #000000; text-decoration-color: #000000; background-color: #ffff00\">age population</span> rise from 40 in 2022 \n",
              "to over 100 in 2058 and to 118 in 2072 In terms of old age support costs alone it is expected to increase from 24 \n",
              "in 2022 to more than 50 in 2036 and 104 in 2072 times higher than in 2022 As of 2022 the population pyramid is \n",
              "expected to change into an inverted triangle structure which is gradually becoming thicker than 60 years old \n",
              "although it is jar type with thick 30s and 50s Compared to the international community the percentage of working \n",
              "<span style=\"color: #000000; text-decoration-color: #000000; background-color: #ffff00\">age population</span> Korea is 71 in 2022 the highest among OECD member countries but it is expected to be the lowest in \n",
              "2072 45 <span style=\"color: #000000; text-decoration-color: #000000; background-color: #ffff00\">Korea elderly</span> is 17 in 2022 which is lower than the OECD average but it is expected to be the highest in \n",
              "2072 47 <span style=\"color: #000000; text-decoration-color: #000000; background-color: #ffff00\">Korea elderly</span> ratio is 24 in 2022 the lowest level among OECD countries but it is expected to be the \n",
              "highest level in 2072 104\n",
              "</pre>\n"
            ]
          },
          "metadata": {}
        },
        {
          "output_type": "execute_result",
          "data": {
            "text/plain": [
              "[('population aged', 0.5962),\n",
              " ('age population', 0.5739),\n",
              " ('korea elderly', 0.5598),\n",
              " ('future population', 0.5555),\n",
              " ('elderly population', 0.5478)]"
            ]
          },
          "metadata": {},
          "execution_count": 26
        }
      ]
    }
  ]
}